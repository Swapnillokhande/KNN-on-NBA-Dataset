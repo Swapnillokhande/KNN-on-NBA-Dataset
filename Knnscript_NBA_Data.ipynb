{
 "cells": [
  {
   "cell_type": "code",
   "execution_count": 2,
   "metadata": {},
   "outputs": [],
   "source": [
    "#define a function to calculate the Euclidean Distance\n",
    "\n",
    "import math \n",
    "def euclideandistance(instance1,instance2,length):\n",
    "    distance=0\n",
    "    for x in range(length):\n",
    "        distance+=pow((instance1[x]-instance2[x]),2)\n",
    "        #print(distance)\n",
    "    return math.sqrt(distance)"
   ]
  },
  {
   "cell_type": "code",
   "execution_count": 3,
   "metadata": {},
   "outputs": [],
   "source": [
    "#write a function to find the neighbourhood\n",
    "import operator\n",
    "\n",
    "def getneighborhood(trainingdata,testinstance,k):\n",
    "    distance=[]\n",
    "    length=len(testinstance)-1\n",
    "    #print(\"Length of testinstance:\",length)\n",
    "    #print(\"Length trainingSet\",len(trainingdata))\n",
    "    for x in range(len(trainingdata)):\n",
    "        dist=euclideandistance(trainingdata[x],testinstance,length)\n",
    "        distance.append((trainingdata[x],dist))\n",
    "    \n",
    "    distance.sort(key=operator.itemgetter(1))\n",
    "    neighbor=[]\n",
    "    #print(distance)\n",
    "    for x in range(k):\n",
    "        neighbor.append(distance[x][0])\n",
    "    #print(\"Neighbors of the test instance\",neighbor)\n",
    "    return neighbor\n",
    "    \n"
   ]
  },
  {
   "cell_type": "code",
   "execution_count": 4,
   "metadata": {},
   "outputs": [],
   "source": [
    "#write a function to get the output class from the neighbors\n",
    "import operator\n",
    "\n",
    "def getoutputclass(neighbors):\n",
    "    outputclass={}\n",
    "    for x in range(len(neighbors)):\n",
    "        response=neighbors[x][-1]\n",
    "        if response in outputclass:\n",
    "            outputclass[response]+=1\n",
    "        else:\n",
    "            outputclass[response]=1\n",
    "    sortedclass=sorted(outputclass.items(), key=operator.itemgetter(1),reverse=True)\n",
    "    #print(\"Class for the test instance\",outputclass.items())\n",
    "    return sortedclass[0][0]"
   ]
  },
  {
   "cell_type": "code",
   "execution_count": 5,
   "metadata": {},
   "outputs": [],
   "source": [
    "def getaccuracy(testinstance, prediction):\n",
    "    correct=0\n",
    "#     print(\"Test instance in Accuracy\",testinstance)\n",
    "#     print(\"Test instance 19\",testinstance[19])\n",
    "#     print(\"Prediction\",prediction)\n",
    "    for x in range(len(testinstance)):\n",
    "        if testinstance[x][19] == prediction[x]:\n",
    "            correct+=1\n",
    "            #print(correct)\n",
    "    return (correct/len(testinstance))*100 "
   ]
  },
  {
   "cell_type": "code",
   "execution_count": 6,
   "metadata": {},
   "outputs": [],
   "source": [
    "#function to split the dataset into train and test\n",
    "\n",
    "def splitdataset(dataset,trainingdata=[], testdata=[]):\n",
    "    for x in range(len(dataset)):\n",
    "        if x<=999:\n",
    "            trainingdata.append(dataset[x])\n",
    "        else:\n",
    "            testdata.append(dataset[x])\n",
    "    #print(x)"
   ]
  },
  {
   "cell_type": "code",
   "execution_count": 7,
   "metadata": {},
   "outputs": [],
   "source": [
    "def getaccuracyfor1(testinstance, prediction):\n",
    "    correct=0\n",
    "    countfor1=0\n",
    "#     print(\"Test instance in Accuracy\",testinstance)\n",
    "#     print(\"Test instance 19\",testinstance[19])\n",
    "#     print(\"Prediction\",prediction)\n",
    "    for x in range(len(testinstance)):\n",
    "        if testinstance[x][19]==1:\n",
    "            countfor1+=1\n",
    "        if ((int(testinstance[x][19]) & int(prediction[x])) == 1):\n",
    "            correct+=1\n",
    "            #print(correct)\n",
    "    return (correct/countfor1)*100 "
   ]
  },
  {
   "cell_type": "code",
   "execution_count": 8,
   "metadata": {},
   "outputs": [
    {
     "name": "stdout",
     "output_type": "stream",
     "text": [
      "Training Data dimensions: 1000 , 20\n",
      "Test Data: 340 , 20\n",
      "Sample Training Set: [[36.0, 27.4, 7.4, 2.6, 7.6, 34.7, 0.5, 2.1, 25.0, 1.6, 2.3, 69.9, 0.7, 3.4, 4.1, 1.9, 0.4, 0.4, 1.3, 0.0], [35.0, 26.9, 7.2, 2.0, 6.7, 29.6, 0.7, 2.8, 23.5, 2.6, 3.4, 76.5, 0.5, 2.0, 2.4, 3.7, 1.1, 0.5, 1.6, 0.0], [74.0, 15.3, 5.2, 2.0, 4.7, 42.2, 0.4, 1.7, 24.4, 0.9, 1.3, 67.0, 0.5, 1.7, 2.2, 1.0, 0.5, 0.3, 1.0, 0.0], [58.0, 11.6, 5.7, 2.3, 5.5, 42.6, 0.1, 0.5, 22.6, 0.9, 1.3, 68.9, 1.0, 0.9, 1.9, 0.8, 0.6, 0.1, 1.0, 1.0], [48.0, 11.5, 4.5, 1.6, 3.0, 52.4, 0.0, 0.1, 0.0, 1.3, 1.9, 67.4, 1.0, 1.5, 2.5, 0.3, 0.3, 0.4, 0.8, 1.0]]\n",
      "Sample Test Set: [[77.0, 24.9, 7.5, 3.3, 7.6, 43.0, 0.5, 1.7, 29.2, 0.5, 0.7, 77.4, 1.0, 2.4, 3.3, 2.3, 0.8, 0.3, 0.9, 1.0], [47.0, 24.6, 10.9, 3.7, 8.2, 45.3, 0.8, 2.4, 34.5, 2.6, 3.4, 77.5, 0.9, 1.9, 2.8, 3.7, 1.5, 0.2, 2.1, 1.0], [79.0, 24.3, 9.4, 3.4, 7.5, 45.7, 0.2, 0.7, 23.2, 2.4, 3.4, 71.3, 1.1, 2.6, 3.7, 1.8, 0.8, 0.6, 1.4, 1.0], [67.0, 22.8, 7.2, 2.7, 6.7, 40.0, 0.1, 0.5, 12.1, 1.7, 2.0, 83.8, 0.7, 1.7, 2.4, 3.0, 1.4, 0.1, 1.4, 1.0], [70.0, 20.6, 6.4, 2.3, 4.9, 46.1, 0.0, 0.0, 0.0, 1.9, 2.6, 74.0, 2.0, 2.3, 4.2, 0.8, 0.4, 0.3, 0.8, 1.0]]\n",
      "Accuracy of the KNN model: 61.76470588235294\n",
      "Percentage of 1 correctly identified 62.882096069869\n"
     ]
    }
   ],
   "source": [
    "import csv\n",
    "import pandas as pd\n",
    "\n",
    "def main():\n",
    "    #define variables and other parameters\n",
    "    \n",
    "    trainingSet=[]\n",
    "    testSet=[]\n",
    "    dataSet=[]\n",
    "    data=open('D:\\\\NEU Courses\\\\Predictive Anaytics\\\\Week1\\\\NBA\\\\nba_logreg.csv','r')\n",
    "\n",
    "    df_data=pd.read_csv(data)\n",
    "\n",
    "    df_data=df_data.drop('Name',axis=1)\n",
    "    for x in range(len(df_data.index)):\n",
    "        a=list(df_data.loc[x])\n",
    "        dataSet.append(a)\n",
    "\n",
    "    #print(len(dataSet))\n",
    "    splitdataset(dataSet,trainingSet,testSet)\n",
    "    print(\"Training Data dimensions:\",len(trainingSet),\",\",len(trainingSet[0]))\n",
    "    print(\"Test Data:\",len(testSet),\",\",len(testSet[0]))\n",
    "    print(\"Sample Training Set:\",trainingSet[0:5])\n",
    "    print(\"Sample Test Set:\",testSet[0:5])\n",
    "    \n",
    "    #call functions for each test row and classify the output\n",
    "    #generate output\n",
    "    prediction=[]\n",
    "    k=5\n",
    "    for x in range(len(testSet)):\n",
    "        neighbors=getneighborhood(trainingSet,testSet[x],k)\n",
    "        #print(neighbors)\n",
    "        response=getoutputclass(neighbors)\n",
    "        #print(response)\n",
    "        prediction.append(response)\n",
    "        #print(\"Predicted:\",response,\"Actual:\",testSet[x][-1])\n",
    "    accuracy=getaccuracy(testSet,prediction)\n",
    "    print(\"Accuracy of the KNN model:\",accuracy)\n",
    "    accuracyfor1=getaccuracyfor1(testSet,prediction)\n",
    "    print(\"Percentage of 1 correctly identified\",accuracyfor1)\n",
    "    \n",
    "main()"
   ]
  },
  {
   "cell_type": "code",
   "execution_count": 17,
   "metadata": {},
   "outputs": [
    {
     "name": "stdout",
     "output_type": "stream",
     "text": [
      "Training Data dimensions: 1000 , 20\n",
      "Test Data: 340 , 20\n",
      "Sample Training Set: [[36.0, 27.4, 7.4, 2.6, 7.6, 34.7, 0.5, 2.1, 25.0, 1.6, 2.3, 69.9, 0.7, 3.4, 4.1, 1.9, 0.4, 0.4, 1.3, 0.0], [35.0, 26.9, 7.2, 2.0, 6.7, 29.6, 0.7, 2.8, 23.5, 2.6, 3.4, 76.5, 0.5, 2.0, 2.4, 3.7, 1.1, 0.5, 1.6, 0.0], [74.0, 15.3, 5.2, 2.0, 4.7, 42.2, 0.4, 1.7, 24.4, 0.9, 1.3, 67.0, 0.5, 1.7, 2.2, 1.0, 0.5, 0.3, 1.0, 0.0], [58.0, 11.6, 5.7, 2.3, 5.5, 42.6, 0.1, 0.5, 22.6, 0.9, 1.3, 68.9, 1.0, 0.9, 1.9, 0.8, 0.6, 0.1, 1.0, 1.0], [48.0, 11.5, 4.5, 1.6, 3.0, 52.4, 0.0, 0.1, 0.0, 1.3, 1.9, 67.4, 1.0, 1.5, 2.5, 0.3, 0.3, 0.4, 0.8, 1.0]]\n",
      "Sample Test Set: [[77.0, 24.9, 7.5, 3.3, 7.6, 43.0, 0.5, 1.7, 29.2, 0.5, 0.7, 77.4, 1.0, 2.4, 3.3, 2.3, 0.8, 0.3, 0.9, 1.0], [47.0, 24.6, 10.9, 3.7, 8.2, 45.3, 0.8, 2.4, 34.5, 2.6, 3.4, 77.5, 0.9, 1.9, 2.8, 3.7, 1.5, 0.2, 2.1, 1.0], [79.0, 24.3, 9.4, 3.4, 7.5, 45.7, 0.2, 0.7, 23.2, 2.4, 3.4, 71.3, 1.1, 2.6, 3.7, 1.8, 0.8, 0.6, 1.4, 1.0], [67.0, 22.8, 7.2, 2.7, 6.7, 40.0, 0.1, 0.5, 12.1, 1.7, 2.0, 83.8, 0.7, 1.7, 2.4, 3.0, 1.4, 0.1, 1.4, 1.0], [70.0, 20.6, 6.4, 2.3, 4.9, 46.1, 0.0, 0.0, 0.0, 1.9, 2.6, 74.0, 2.0, 2.3, 4.2, 0.8, 0.4, 0.3, 0.8, 1.0]]\n",
      "Accuracy of the KNN model: 69.41176470588235\n",
      "Percentage of 1 correctly identified 69.43231441048034\n"
     ]
    }
   ],
   "source": [
    "import csv\n",
    "import pandas as pd\n",
    "\n",
    "def main():\n",
    "    #define variables and other parameters\n",
    "    \n",
    "    trainingSet=[]\n",
    "    testSet=[]\n",
    "    dataSet=[]\n",
    "    data=open('D:\\\\NEU Courses\\\\Predictive Anaytics\\\\Week1\\\\NBA\\\\nba_logreg.csv','r')\n",
    "\n",
    "    df_data=pd.read_csv(data)\n",
    "\n",
    "    df_data=df_data.drop('Name',axis=1)\n",
    "    for x in range(len(df_data.index)):\n",
    "        a=list(df_data.loc[x])\n",
    "        dataSet.append(a)\n",
    "\n",
    "    #print(len(dataSet))\n",
    "    splitdataset(dataSet,trainingSet,testSet)\n",
    "    print(\"Training Data dimensions:\",len(trainingSet),\",\",len(trainingSet[0]))\n",
    "    print(\"Test Data:\",len(testSet),\",\",len(testSet[0]))\n",
    "    print(\"Sample Training Set:\",trainingSet[0:5])\n",
    "    print(\"Sample Test Set:\",testSet[0:5])\n",
    "    \n",
    "    #call functions for each test row and classify the output\n",
    "    #generate output\n",
    "    prediction=[]\n",
    "    k=25\n",
    "    for x in range(len(testSet)):\n",
    "        neighbors=getneighborhood(trainingSet,testSet[x],k)\n",
    "        #print(neighbors)\n",
    "        response=getoutputclass(neighbors)\n",
    "        #print(response)\n",
    "        prediction.append(response)\n",
    "        #print(\"Predicted:\",response,\"Actual:\",testSet[x][-1])\n",
    "    accuracy=getaccuracy(testSet,prediction)\n",
    "    print(\"Accuracy of the KNN model:\",accuracy)\n",
    "    accuracyfor1=getaccuracyfor1(testSet,prediction)\n",
    "    print(\"Percentage of 1 correctly identified\",accuracyfor1)\n",
    "    \n",
    "main()"
   ]
  },
  {
   "cell_type": "code",
   "execution_count": 10,
   "metadata": {},
   "outputs": [
    {
     "name": "stdout",
     "output_type": "stream",
     "text": [
      "Training Data dimensions: 1000 , 20\n",
      "Test Data: 340 , 20\n",
      "Sample Training Set: [[36.0, 27.4, 7.4, 2.6, 7.6, 34.7, 0.5, 2.1, 25.0, 1.6, 2.3, 69.9, 0.7, 3.4, 4.1, 1.9, 0.4, 0.4, 1.3, 0.0], [35.0, 26.9, 7.2, 2.0, 6.7, 29.6, 0.7, 2.8, 23.5, 2.6, 3.4, 76.5, 0.5, 2.0, 2.4, 3.7, 1.1, 0.5, 1.6, 0.0], [74.0, 15.3, 5.2, 2.0, 4.7, 42.2, 0.4, 1.7, 24.4, 0.9, 1.3, 67.0, 0.5, 1.7, 2.2, 1.0, 0.5, 0.3, 1.0, 0.0], [58.0, 11.6, 5.7, 2.3, 5.5, 42.6, 0.1, 0.5, 22.6, 0.9, 1.3, 68.9, 1.0, 0.9, 1.9, 0.8, 0.6, 0.1, 1.0, 1.0], [48.0, 11.5, 4.5, 1.6, 3.0, 52.4, 0.0, 0.1, 0.0, 1.3, 1.9, 67.4, 1.0, 1.5, 2.5, 0.3, 0.3, 0.4, 0.8, 1.0]]\n",
      "Sample Test Set: [[77.0, 24.9, 7.5, 3.3, 7.6, 43.0, 0.5, 1.7, 29.2, 0.5, 0.7, 77.4, 1.0, 2.4, 3.3, 2.3, 0.8, 0.3, 0.9, 1.0], [47.0, 24.6, 10.9, 3.7, 8.2, 45.3, 0.8, 2.4, 34.5, 2.6, 3.4, 77.5, 0.9, 1.9, 2.8, 3.7, 1.5, 0.2, 2.1, 1.0], [79.0, 24.3, 9.4, 3.4, 7.5, 45.7, 0.2, 0.7, 23.2, 2.4, 3.4, 71.3, 1.1, 2.6, 3.7, 1.8, 0.8, 0.6, 1.4, 1.0], [67.0, 22.8, 7.2, 2.7, 6.7, 40.0, 0.1, 0.5, 12.1, 1.7, 2.0, 83.8, 0.7, 1.7, 2.4, 3.0, 1.4, 0.1, 1.4, 1.0], [70.0, 20.6, 6.4, 2.3, 4.9, 46.1, 0.0, 0.0, 0.0, 1.9, 2.6, 74.0, 2.0, 2.3, 4.2, 0.8, 0.4, 0.3, 0.8, 1.0]]\n",
      "Accuracy of the KNN model: 69.41176470588235\n",
      "Percentage of 1 correctly identified 71.17903930131004\n"
     ]
    }
   ],
   "source": [
    "import csv\n",
    "import pandas as pd\n",
    "\n",
    "def main():\n",
    "    #define variables and other parameters\n",
    "    \n",
    "    trainingSet=[]\n",
    "    testSet=[]\n",
    "    dataSet=[]\n",
    "    data=open('D:\\\\NEU Courses\\\\Predictive Anaytics\\\\Week1\\\\NBA\\\\nba_logreg.csv','r')\n",
    "\n",
    "    df_data=pd.read_csv(data)\n",
    "\n",
    "    df_data=df_data.drop('Name',axis=1)\n",
    "    for x in range(len(df_data.index)):\n",
    "        a=list(df_data.loc[x])\n",
    "        dataSet.append(a)\n",
    "\n",
    "    #print(len(dataSet))\n",
    "    splitdataset(dataSet,trainingSet,testSet)\n",
    "    print(\"Training Data dimensions:\",len(trainingSet),\",\",len(trainingSet[0]))\n",
    "    print(\"Test Data:\",len(testSet),\",\",len(testSet[0]))\n",
    "    print(\"Sample Training Set:\",trainingSet[0:5])\n",
    "    print(\"Sample Test Set:\",testSet[0:5])\n",
    "    \n",
    "    #call functions for each test row and classify the output\n",
    "    #generate output\n",
    "    prediction=[]\n",
    "    k=51\n",
    "    for x in range(len(testSet)):\n",
    "        neighbors=getneighborhood(trainingSet,testSet[x],k)\n",
    "        #print(neighbors)\n",
    "        response=getoutputclass(neighbors)\n",
    "        #print(response)\n",
    "        prediction.append(response)\n",
    "        #print(\"Predicted:\",response,\"Actual:\",testSet[x][-1])\n",
    "    accuracy=getaccuracy(testSet,prediction)\n",
    "    print(\"Accuracy of the KNN model:\",accuracy)\n",
    "    accuracyfor1=getaccuracyfor1(testSet,prediction)\n",
    "    print(\"Percentage of 1 correctly identified\",accuracyfor1)\n",
    "    \n",
    "main()"
   ]
  }
 ],
 "metadata": {
  "kernelspec": {
   "display_name": "Python 3",
   "language": "python",
   "name": "python3"
  },
  "language_info": {
   "codemirror_mode": {
    "name": "ipython",
    "version": 3
   },
   "file_extension": ".py",
   "mimetype": "text/x-python",
   "name": "python",
   "nbconvert_exporter": "python",
   "pygments_lexer": "ipython3",
   "version": "3.7.3"
  }
 },
 "nbformat": 4,
 "nbformat_minor": 2
}
